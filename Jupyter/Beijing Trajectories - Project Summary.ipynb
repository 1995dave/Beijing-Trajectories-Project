{
 "cells": [
  {
   "cell_type": "markdown",
   "metadata": {},
   "source": [
    "# Beijing Trajectories - Project Summary\n",
    "\n",
    "**Overview**\n",
    "\n",
    "A data science research project in the Applied Mathematics & Mathematical Physics Group. Used fractal and complexity measures on a dataset of users’ locations which were tracked in and around Beijing. Extracted each user's significant locations as well as classifying different trajectories (the path created by a user) using some methods from statistical physics."
   ]
  },
  {
   "cell_type": "markdown",
   "metadata": {},
   "source": [
    "**Stages**\n",
    "\n",
    "- Data Cleaning\n",
    "- Location clustering\n",
    "- User analysis\n",
    "- Trajectory analysis"
   ]
  },
  {
   "cell_type": "markdown",
   "metadata": {},
   "source": [
    "## Data Cleaning\n",
    "\n",
    "The raw data form (https://www.microsoft.com/en-us/research/publication/geolife-gps-trajectory-dataset-user-guide/) had uneven time-steps, duplicate users, mislabelled trajectories and noisy data-points amongst other errors.\n",
    "\n",
    "See the *Primary Time-step and Position Analysis* notebook for justifications of the time-step resampling and conversion from lat/long coordinates to cartesian coordinates (with choice of origin).\n",
    "\n",
    "One of the most troublesome formatting problems with the data was that many trajectories had multiple corresponding labels (i.e. they contained more than one mode of transport), all stored in a separate table. The *Cleaning* folder contains scripts for splitting up these trajctories into their constituent parts as well as general scripts for converting formats, relabelling columns, label matching, converting date-time formats and other boring but necessary tasks that needed to be carried out before analysis.\n",
    "\n",
    "**resample.py** contains the time-step resampling methods. This was carried out in realtime, so as to avoid the large redundancy in the stored data. The time-step resolution was taken to be a low percentile (typically the 10th) of the original distribution of time-steps in a particular trajectory (chosen to be roughly above the noisy points)."
   ]
  },
  {
   "cell_type": "code",
   "execution_count": null,
   "metadata": {},
   "outputs": [],
   "source": []
  }
 ],
 "metadata": {
  "kernelspec": {
   "display_name": "Python 3",
   "language": "python",
   "name": "python3"
  },
  "language_info": {
   "codemirror_mode": {
    "name": "ipython",
    "version": 3
   },
   "file_extension": ".py",
   "mimetype": "text/x-python",
   "name": "python",
   "nbconvert_exporter": "python",
   "pygments_lexer": "ipython3",
   "version": "3.5.2"
  }
 },
 "nbformat": 4,
 "nbformat_minor": 2
}
