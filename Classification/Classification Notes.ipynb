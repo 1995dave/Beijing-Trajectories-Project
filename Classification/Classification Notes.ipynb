{
 "cells": [
  {
   "cell_type": "markdown",
   "metadata": {},
   "source": [
    "# Classification Notes\n",
    "\n",
    "Here I'll work through my reasoning from choosing features to training a model on the data.\n",
    "\n",
    "Possible features:\n",
    "\n",
    "- crowLength\n",
    "- pathCrowRatio\n",
    "- coveredArea\n",
    "- windowArea\n",
    "- areaPerUnitL\n",
    "- areaPerUnitT\n",
    "- hurst\n",
    "- DFA\n",
    "- angleDensS\n",
    "- angleDensT\n",
    "- timeSpent\n",
    "- corrDim\n",
    "\n",
    "Possible labels:\n",
    "\n",
    "- transMode\n",
    "\n",
    "Could try and use some of the features as labels instead?\n",
    "\n",
    "Ideally I would put all of these into a table with each row representing a trajectory, this might be very large though - let's see."
   ]
  },
  {
   "cell_type": "code",
   "execution_count": null,
   "metadata": {},
   "outputs": [],
   "source": [
    "%load_ext autoreload\n",
    "%autoreload 2\n",
    "import warnings; warnings.simplefilter('ignore')"
   ]
  },
  {
   "cell_type": "code",
   "execution_count": 3,
   "metadata": {},
   "outputs": [],
   "source": [
    "import pandas as pd"
   ]
  },
  {
   "cell_type": "code",
   "execution_count": 4,
   "metadata": {},
   "outputs": [],
   "source": [
    "df = pd.read_csv('../Metadata/Inventory.csv')"
   ]
  },
  {
   "cell_type": "code",
   "execution_count": 7,
   "metadata": {},
   "outputs": [
    {
     "data": {
      "text/plain": [
       "13395"
      ]
     },
     "execution_count": 7,
     "metadata": {},
     "output_type": "execute_result"
    }
   ],
   "source": [
    "len(df)"
   ]
  },
  {
   "cell_type": "markdown",
   "metadata": {},
   "source": [
    "So we have roughly 13,400 trajectories, this is manageable. Now we need to write a script which will populate a csv with the features and labels for each trajectory. This may take a while.\n",
    "\n",
    "I've discarded the DFA feature because it was too buggy and I'm not sure how much it really adds.\n",
    "\n",
    "The featExtract script seems to be working nicely, giving me the csv I need. I've had to filter (arbitrarily) to trajectories with no fewer than 20 points, that are of 0.5mins < duration < 60mins and are longer than 20m. This was on one hand to remove the noisy short trajectories and also reduce computation time on the longer trajectories (the latter could be relaxed with access to more power).\n",
    "\n",
    "I have decided to remove the correlation dimension feature as I was unsure that it was valid on this time-series data and it also created a large computational burden. Random Forest analysis on a small dataset showed it also to be a weak predictor of mode of transport. I've also increased the efficiency of the angle-density measures.\n",
    "\n",
    "I have converted the trajectories into 32x32 histograms, I intend to use these with a CNN to see if I get any interesting results. My guess is that it will perform poorly but it'll be interesting to see.\n",
    "\n",
    "The updated list of features now reads:\n",
    "\n",
    "- crowLength\n",
    "- pathCrowRatio\n",
    "- coveredArea\n",
    "- windowArea\n",
    "- areaPerUnitL\n",
    "- areaPerUnitT\n",
    "- hurst\n",
    "- angleDensS\n",
    "- angleDensT\n",
    "- timeSpent"
   ]
  },
  {
   "cell_type": "markdown",
   "metadata": {},
   "source": [
    "## Data Preprocessing"
   ]
  },
  {
   "cell_type": "code",
   "execution_count": 1,
   "metadata": {},
   "outputs": [],
   "source": [
    "%load_ext autoreload\n",
    "%autoreload 2"
   ]
  },
  {
   "cell_type": "code",
   "execution_count": 21,
   "metadata": {},
   "outputs": [],
   "source": [
    "import pandas as pd\n",
    "import numpy as np\n",
    "from sklearn.preprocessing import LabelEncoder\n",
    "\n",
    "seed = 20"
   ]
  },
  {
   "cell_type": "code",
   "execution_count": 3,
   "metadata": {},
   "outputs": [],
   "source": [
    "df = pd.read_csv('../Metadata/trajFeatures.csv')\n",
    "df = df.loc[df['Label-state'] != 'Unlabelled']\n",
    "df.loc[df['Mode of Transport']=='taxi','Mode of Transport'] = 'car' # group taxis and cars\n",
    "\n",
    "for column in df.columns:\n",
    "    if 'Unnamed' in column:\n",
    "        df.drop(column, axis=1, inplace=True)"
   ]
  },
  {
   "cell_type": "code",
   "execution_count": 6,
   "metadata": {},
   "outputs": [],
   "source": [
    "modes = np.array(df['Mode of Transport'])\n",
    "\n",
    "# Encoding modes of transport from here: bit.ly/2LdtVjV (see here also for inverse encoding)\n",
    "# integer encode\n",
    "label_encoder = LabelEncoder()\n",
    "integer_encoded = label_encoder.fit_transform(modes)"
   ]
  },
  {
   "cell_type": "code",
   "execution_count": 13,
   "metadata": {},
   "outputs": [
    {
     "name": "stdout",
     "output_type": "stream",
     "text": [
      "['train' 'train' 'walk' ... 'bus' 'walk' 'subway']\n"
     ]
    }
   ],
   "source": [
    "print(modes)"
   ]
  },
  {
   "cell_type": "markdown",
   "metadata": {},
   "source": [
    "# Models"
   ]
  },
  {
   "cell_type": "code",
   "execution_count": 38,
   "metadata": {},
   "outputs": [],
   "source": [
    "from sklearn.model_selection import KFold\n",
    "from sklearn.model_selection import cross_val_score"
   ]
  },
  {
   "cell_type": "code",
   "execution_count": 39,
   "metadata": {},
   "outputs": [],
   "source": [
    "kfold = KFold(n_splits=10, shuffle=True, random_state=seed)"
   ]
  },
  {
   "cell_type": "markdown",
   "metadata": {},
   "source": [
    "## Random Forest"
   ]
  },
  {
   "cell_type": "code",
   "execution_count": 40,
   "metadata": {},
   "outputs": [],
   "source": [
    "from sklearn.ensemble import RandomForestClassifier"
   ]
  },
  {
   "cell_type": "markdown",
   "metadata": {},
   "source": [
    "Through experimentation I found the optimal features to include/remove."
   ]
  },
  {
   "cell_type": "code",
   "execution_count": 41,
   "metadata": {},
   "outputs": [],
   "source": [
    "feature_drop = ['Mode of Transport','Path','Label-state', 'Point Count','Duration','Path-Crow Ratio','Covered Area','Area/Length','Hurst Exponent','Length']\n",
    "features = list(df.drop(feature_drop, axis=1).columns)"
   ]
  },
  {
   "cell_type": "code",
   "execution_count": 42,
   "metadata": {},
   "outputs": [],
   "source": [
    "X = np.array(df.drop(feature_drop, axis=1))\n",
    "Y = integer_encoded"
   ]
  },
  {
   "cell_type": "code",
   "execution_count": null,
   "metadata": {},
   "outputs": [],
   "source": [
    "clf = RandomForestClassifier(max_depth=2, random_state=0)\n",
    "clf.fit(X, Y)"
   ]
  },
  {
   "cell_type": "code",
   "execution_count": 44,
   "metadata": {},
   "outputs": [
    {
     "name": "stdout",
     "output_type": "stream",
     "text": [
      "Accuracy: 72.02% (1.75%)\n",
      "                Feature  Feature Importance\n",
      "0           Crow Length            0.240932\n",
      "1           Window Area            0.139624\n",
      "2             Area/Time            0.368523\n",
      "3  Turning-angle/Length            0.168154\n",
      "4    Turning-angle/Time            0.000000\n",
      "5            Mean Speed            0.082766\n"
     ]
    }
   ],
   "source": [
    "results = cross_val_score(clf, X, Y, cv=kfold)\n",
    "print(\"Accuracy: %.2f%% (%.2f%%)\" % (results.mean()*100, results.std()*100))\n",
    "print(pd.DataFrame({'Feature Importance':clf.feature_importances_, 'Feature':features}).loc[:,('Feature','Feature Importance')])"
   ]
  },
  {
   "cell_type": "markdown",
   "metadata": {},
   "source": [
    "## Scikit Learn Gradient Boost"
   ]
  },
  {
   "cell_type": "code",
   "execution_count": 45,
   "metadata": {},
   "outputs": [],
   "source": [
    "from sklearn.ensemble import GradientBoostingClassifier"
   ]
  },
  {
   "cell_type": "code",
   "execution_count": 46,
   "metadata": {},
   "outputs": [],
   "source": [
    "feature_drop = ['Mode of Transport','Path','Label-state', 'Point Count', 'Duration','Length', 'Turning-angle/Time','Hurst Exponent']\n",
    "features = list(df.drop(feature_drop, axis=1).columns)"
   ]
  },
  {
   "cell_type": "code",
   "execution_count": 47,
   "metadata": {},
   "outputs": [],
   "source": [
    "X = np.array(df.drop(feature_drop, axis=1))"
   ]
  },
  {
   "cell_type": "code",
   "execution_count": null,
   "metadata": {},
   "outputs": [],
   "source": [
    "clf = GradientBoostingClassifier(max_depth=2, random_state=0)\n",
    "clf.fit(X, Y)"
   ]
  },
  {
   "cell_type": "code",
   "execution_count": 49,
   "metadata": {},
   "outputs": [
    {
     "name": "stdout",
     "output_type": "stream",
     "text": [
      "Accuracy: 81.91% (1.36%)\n",
      "                Feature  Feature Importance\n",
      "0           Crow Length            0.196559\n",
      "1       Path-Crow Ratio            0.136586\n",
      "2          Covered Area            0.115823\n",
      "3           Window Area            0.095270\n",
      "4           Area/Length            0.103683\n",
      "5             Area/Time            0.126515\n",
      "6  Turning-angle/Length            0.097602\n",
      "7            Mean Speed            0.082960\n"
     ]
    }
   ],
   "source": [
    "results = cross_val_score(clf, X, Y, cv=kfold)\n",
    "print(\"Accuracy: %.2f%% (%.2f%%)\" % (results.mean()*100, results.std()*100))\n",
    "print(pd.DataFrame({'Feature Importance':clf.feature_importances_, 'Feature':features}).loc[:,('Feature','Feature Importance')])"
   ]
  },
  {
   "cell_type": "markdown",
   "metadata": {},
   "source": [
    "## XGBoost"
   ]
  },
  {
   "cell_type": "code",
   "execution_count": 55,
   "metadata": {},
   "outputs": [],
   "source": [
    "from xgboost import XGBClassifier"
   ]
  },
  {
   "cell_type": "code",
   "execution_count": 56,
   "metadata": {},
   "outputs": [],
   "source": [
    "feature_drop = ['Mode of Transport','Path','Label-state', 'Point Count', 'Duration','Length', 'Turning-angle/Time','Hurst Exponent']\n",
    "features = list(df.drop(feature_drop, axis=1).columns)"
   ]
  },
  {
   "cell_type": "code",
   "execution_count": 58,
   "metadata": {},
   "outputs": [],
   "source": [
    "X = np.array(df.drop(feature_drop, axis=1))"
   ]
  },
  {
   "cell_type": "code",
   "execution_count": 59,
   "metadata": {},
   "outputs": [
    {
     "data": {
      "text/plain": [
       "XGBClassifier(base_score=0.5, booster='gbtree', colsample_bylevel=1,\n",
       "       colsample_bytree=1, gamma=0, learning_rate=0.1, max_delta_step=0,\n",
       "       max_depth=3, min_child_weight=1, missing=None, n_estimators=100,\n",
       "       n_jobs=1, nthread=None, objective='multi:softprob', random_state=0,\n",
       "       reg_alpha=0, reg_lambda=1, scale_pos_weight=1, seed=None,\n",
       "       silent=True, subsample=1)"
      ]
     },
     "execution_count": 59,
     "metadata": {},
     "output_type": "execute_result"
    }
   ],
   "source": [
    "clf = XGBClassifier()\n",
    "clf.fit(X, Y)"
   ]
  },
  {
   "cell_type": "code",
   "execution_count": 62,
   "metadata": {},
   "outputs": [
    {
     "name": "stdout",
     "output_type": "stream",
     "text": [
      "Accuracy: 81.98% (1.44%)\n",
      "                Feature  Feature Importance\n",
      "0           Crow Length            0.130764\n",
      "1       Path-Crow Ratio            0.153085\n",
      "2          Covered Area            0.094336\n",
      "3           Window Area            0.121289\n",
      "4           Area/Length            0.142135\n",
      "5             Area/Time            0.144241\n",
      "6  Turning-angle/Length            0.130975\n",
      "7            Mean Speed            0.083175\n"
     ]
    }
   ],
   "source": [
    "results = cross_val_score(clf, X, Y, cv=kfold)\n",
    "print(\"Accuracy: %.2f%% (%.2f%%)\" % (results.mean()*100, results.std()*100))\n",
    "print(pd.DataFrame({'Feature Importance':clf.feature_importances_, 'Feature':features}).loc[:,('Feature','Feature Importance')])"
   ]
  }
 ],
 "metadata": {
  "kernelspec": {
   "display_name": "Python 3",
   "language": "python",
   "name": "python3"
  },
  "language_info": {
   "codemirror_mode": {
    "name": "ipython",
    "version": 3
   },
   "file_extension": ".py",
   "mimetype": "text/x-python",
   "name": "python",
   "nbconvert_exporter": "python",
   "pygments_lexer": "ipython3",
   "version": "3.5.2"
  }
 },
 "nbformat": 4,
 "nbformat_minor": 2
}
