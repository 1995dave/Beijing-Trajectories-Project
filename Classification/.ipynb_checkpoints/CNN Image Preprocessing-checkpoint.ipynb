{
 "cells": [
  {
   "cell_type": "markdown",
   "metadata": {},
   "source": [
    "# CNN Image Preprocessing\n",
    "\n",
    "Following a similar method to [Deep Feature Extraction from Trajectories for\n",
    "Transportation Mode Estimation (Endo et al.)](http://www.npal.cs.tsukuba.ac.jp/~endo/pdf/pakdd2016_endo_preprint.pdf) in producing histograms for the trajectory data.\n",
    "\n",
    "Will address the issue of sample rate inconsistencies affecting pixel intensities later."
   ]
  },
  {
   "cell_type": "code",
   "execution_count": 25,
   "metadata": {},
   "outputs": [],
   "source": [
    "%load_ext autoreload\n",
    "%autoreload 2"
   ]
  },
  {
   "cell_type": "code",
   "execution_count": 4,
   "metadata": {},
   "outputs": [],
   "source": [
    "import pandas as pd\n",
    "import numpy as np"
   ]
  },
  {
   "cell_type": "code",
   "execution_count": 2,
   "metadata": {},
   "outputs": [],
   "source": [
    "df = pd.read_csv('../Metadata/trajFeatures.csv')"
   ]
  },
  {
   "cell_type": "markdown",
   "metadata": {},
   "source": [
    "We want to determine a suitable window area to take a snapshot of our trajectories, this we will define as the average window area across all trajectories."
   ]
  },
  {
   "cell_type": "code",
   "execution_count": 7,
   "metadata": {},
   "outputs": [
    {
     "name": "stdout",
     "output_type": "stream",
     "text": [
      "Side Length: 6529.326437894346\n"
     ]
    }
   ],
   "source": [
    "print('Side Length:', np.sqrt(df['Window Area'].mean()))"
   ]
  },
  {
   "cell_type": "markdown",
   "metadata": {},
   "source": [
    "This is the length of the sides of a square with an area equal to the mean window area of the trajectories.\n",
    "\n",
    "Now we need to choose the centre of the trajectory, this we will choose to be roughly equal to the centre point in the series."
   ]
  },
  {
   "cell_type": "code",
   "execution_count": 12,
   "metadata": {},
   "outputs": [],
   "source": [
    "from Scripts.chooseTraj import randTraj\n",
    "from Scripts.trajAnalysis import trajectory"
   ]
  },
  {
   "cell_type": "code",
   "execution_count": 14,
   "metadata": {},
   "outputs": [],
   "source": [
    "t = trajectory(randTraj('../../Data'))"
   ]
  },
  {
   "cell_type": "code",
   "execution_count": 19,
   "metadata": {},
   "outputs": [
    {
     "data": {
      "text/plain": [
       "array([[-3248.82630701,  1076.98648969],\n",
       "       [-3248.82630701,  1077.35704323],\n",
       "       [-3248.68432772,  1076.80121292],\n",
       "       ...,\n",
       "       [-2845.4632119 ,   802.77682782],\n",
       "       [-2845.3212326 ,   802.77682782],\n",
       "       [-2845.3212326 ,   802.77682782]])"
      ]
     },
     "execution_count": 19,
     "metadata": {},
     "output_type": "execute_result"
    }
   ],
   "source": [
    "t.points"
   ]
  },
  {
   "cell_type": "code",
   "execution_count": 21,
   "metadata": {},
   "outputs": [
    {
     "data": {
      "text/plain": [
       "array([-3153.55821966,   735.52133803])"
      ]
     },
     "execution_count": 21,
     "metadata": {},
     "output_type": "execute_result"
    }
   ],
   "source": [
    "t.points[len(t.points)//2]"
   ]
  },
  {
   "cell_type": "markdown",
   "metadata": {},
   "source": [
    "I have written this into the `Scripts.traj2imge.imgCentre()` function. Will ideally extend it to the geometric median in future but this is computationally expensive."
   ]
  }
 ],
 "metadata": {
  "kernelspec": {
   "display_name": "Python 3",
   "language": "python",
   "name": "python3"
  },
  "language_info": {
   "codemirror_mode": {
    "name": "ipython",
    "version": 3
   },
   "file_extension": ".py",
   "mimetype": "text/x-python",
   "name": "python",
   "nbconvert_exporter": "python",
   "pygments_lexer": "ipython3",
   "version": "3.5.2"
  }
 },
 "nbformat": 4,
 "nbformat_minor": 2
}
